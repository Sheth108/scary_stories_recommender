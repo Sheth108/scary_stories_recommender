{
 "cells": [
  {
   "cell_type": "code",
   "execution_count": 2,
   "metadata": {},
   "outputs": [],
   "source": [
    "import requests\n",
    "import pandas as pd\n",
    "from bs4 import BeautifulSoup\n",
    "import re\n",
    "import pickle as pkl"
   ]
  },
  {
   "cell_type": "code",
   "execution_count": 3,
   "metadata": {},
   "outputs": [],
   "source": [
    "# get html code from website\n",
    "def getSoup(url):\n",
    "    response = requests.get(url)\n",
    "    soup = BeautifulSoup(response.text, 'lxml')\n",
    "    return soup"
   ]
  },
  {
   "cell_type": "code",
   "execution_count": 4,
   "metadata": {},
   "outputs": [],
   "source": [
    "# gets body of stories (with some extra noise) - edit accordingly depending on htmls from each site\n",
    "def getStories(stories, start):\n",
    "    newStories = []\n",
    "    currentStory = ''\n",
    "    for story in stories:\n",
    "        if story == stories[0]:\n",
    "            newStories.append(story)\n",
    "        elif '<p>' + start in story:\n",
    "            newStories.append(currentStory)\n",
    "            currentStory = story\n",
    "        elif story == stories[-1]:\n",
    "            newStories.append(currentStory)\n",
    "        else:\n",
    "            currentStory += story\n",
    "    return newStories\n",
    "\n",
    "def getStories2(stories):\n",
    "    newStories = []\n",
    "    currentStory = []\n",
    "    for num, story in enumerate(stories):\n",
    "        if 'br/' in story or story == '<p></p>':\n",
    "            newStories.append(currentStory)\n",
    "            currentStory = [story]\n",
    "        elif story == stories[-1]:\n",
    "            currentStory.append(story)\n",
    "            newStories.append(currentStory)\n",
    "        else:\n",
    "            currentStory.append(story)\n",
    "    return newStories\n",
    "\n",
    "def getStories3(stories, end):\n",
    "    newStories = []\n",
    "    currentStory = ''\n",
    "    for story in stories:\n",
    "        if end + '</p>' in story:\n",
    "            currentStory += story\n",
    "            newStories.append(currentStory)\n",
    "            currentStory = ''\n",
    "        elif story == stories[-1]:\n",
    "            newStories.append(currentStory)\n",
    "        else:\n",
    "            currentStory += story\n",
    "    return newStories\n",
    "\n",
    "def getStories4(stories):\n",
    "    newStories = []\n",
    "    counter = 2\n",
    "    currentStory = ''\n",
    "    for story in stories:\n",
    "        if story == stories[0]:\n",
    "            currentStory += story\n",
    "        elif '>' + str(counter) + '.' in story:\n",
    "            newStories.append(currentStory)\n",
    "            currentStory = story\n",
    "            counter += 1\n",
    "        elif story == stories[-1]:\n",
    "            newStories.append(currentStory)\n",
    "        else:\n",
    "            currentStory += story\n",
    "    return newStories"
   ]
  },
  {
   "cell_type": "code",
   "execution_count": 5,
   "metadata": {},
   "outputs": [],
   "source": [
    "# turn list of lists of stories into list of strings of stories\n",
    "def addStories(newStories):\n",
    "    myStories = []\n",
    "    for story in newStories:\n",
    "        currentStory = ''\n",
    "        for item in story:\n",
    "            currentStory += item\n",
    "        myStories.append(currentStory)\n",
    "    return myStories"
   ]
  },
  {
   "cell_type": "code",
   "execution_count": 6,
   "metadata": {},
   "outputs": [],
   "source": [
    "# find common factor in stories which defines beginning and end and make stories only that (get rid of outside noise)\n",
    "def startToEndStories(newStories, start, end):    \n",
    "    scaryStories = []\n",
    "    for index, story in enumerate(newStories):\n",
    "        startIndex = newStories[index].find(start)\n",
    "        endIndex = newStories[index].find(end, startIndex + 1)\n",
    "        scaryStories.append(newStories[index][startIndex + 1:endIndex])\n",
    "    return scaryStories\n",
    "\n",
    "def startToEndStories2(newStories, start):    \n",
    "    scaryStories = []\n",
    "    for index, story in enumerate(newStories):\n",
    "        startIndex = newStories[index].find(str(start))\n",
    "        scaryStories.append(newStories[index][startIndex + 2:-4])\n",
    "        start += 1\n",
    "    return scaryStories"
   ]
  },
  {
   "cell_type": "code",
   "execution_count": 7,
   "metadata": {},
   "outputs": [],
   "source": [
    "# removes html paragraph tags to completely clean stories - more might need to be done before this step (get rid of inside noise)\n",
    "def cleanStories(scaryStories):\n",
    "    cleanStories = []\n",
    "    for story in scaryStories:\n",
    "        if len(story) > 1:\n",
    "            cleanStories.append(story.replace('<p>','').replace('</p>', ''))\n",
    "    return cleanStories"
   ]
  },
  {
   "cell_type": "markdown",
   "metadata": {},
   "source": [
    "# 67 True Scary Stories"
   ]
  },
  {
   "cell_type": "code",
   "execution_count": 8,
   "metadata": {},
   "outputs": [],
   "source": [
    "# get soup for 67 story site\n",
    "soup = getSoup('https://thoughtcatalog.com/erin-cossetta/2017/10/true-scary-stories-to-tell-in-the-dark/')\n",
    "\n",
    "# get lines that contain stories\n",
    "stories = [str(story) for story in soup.find_all('p')]\n",
    "\n",
    "# get characters that distinguish beginning and end of stories\n",
    "weirdQuote = stories[0][3]\n",
    "weirdEndQuote = stories[0][-153]\n",
    "dash = stories[0][565:568]\n",
    "\n",
    "# clean stories\n",
    "newStories = getStories(stories, weirdQuote)\n",
    "newStories = newStories[:8] + [str(newStories[8] + newStories[9] + newStories[10] + newStories[11] + newStories[12] + newStories[13])] + newStories[14:]\n",
    "scaryStories = startToEndStories(newStories, weirdQuote, dash)\n",
    "cleanStories67 = cleanStories(scaryStories)"
   ]
  },
  {
   "cell_type": "code",
   "execution_count": 9,
   "metadata": {},
   "outputs": [
    {
     "data": {
      "text/plain": [
       "'Making toast late one night facing the kitchen bench eating for a good 5-10mins. Cleaned up and turned around and every single cupboard door and cutlery drawer were open. They were all closed when I went into the kitchen, and there was no way anyone could have snuck in and done it because I was home alone. I also didn’t hear them open in the time I was there. Scared the shit out of me so I froze, let it register for a few seconds, then calmly closed everything and went back to my room to hide until daylight. One of a few weird things to happen growing up.'"
      ]
     },
     "execution_count": 9,
     "metadata": {},
     "output_type": "execute_result"
    }
   ],
   "source": [
    "cleanStories67[0]"
   ]
  },
  {
   "cell_type": "markdown",
   "metadata": {},
   "source": [
    "# 50 Scary Stories"
   ]
  },
  {
   "cell_type": "code",
   "execution_count": 10,
   "metadata": {},
   "outputs": [],
   "source": [
    "# get soup for 50 story site\n",
    "soup = getSoup('https://thoughtcatalog.com/christine-stockton/2018/09/50-scary-stories-that-turned-out-to-be-100-real/')\n",
    "\n",
    "# get lines that contain stories\n",
    "stories = stories = [str(story) for story in soup.find_all('p') if \"href\" not in str(story)]\n",
    "\n",
    "# get characters that distinguish beginning and end of stories\n",
    "weirdQuote = stories[1][3]\n",
    "weirdEndQuote = stories[3][-5]\n",
    "\n",
    "# clean stories\n",
    "newStories = getStories2(stories)\n",
    "myStories = addStories(newStories)\n",
    "scaryStories = startToEndStories(myStories, weirdQuote, weirdEndQuote + '</p>')\n",
    "cleanStories50 = cleanStories(scaryStories)"
   ]
  },
  {
   "cell_type": "code",
   "execution_count": 11,
   "metadata": {},
   "outputs": [
    {
     "data": {
      "text/plain": [
       "'A guy I know is a boat mechanic. So one Saturday he’s on his own doing some work on a boat and suddenly he comes too and he’s on the ground. He knew there was water under the boat he’d been working on so he assumes he’s been electrocuted and he’s vaguely aware of someone behind him. So he starts yelling “help help I’ve been electrocuted” and he hears whoever is behind him leave. He keeps yelling and eventually a guy in a neighbouring business hears him and comes to his aid. When he’s at the hospital he finds out he wasn’t electrocuted, someone had hit him on the back of the head with his own mallet. Nothing was stolen from the shop.Meaning someone (who was never caught) was just walking by and spontaneously decided to hit him on the back of the head for no reason.'"
      ]
     },
     "execution_count": 11,
     "metadata": {},
     "output_type": "execute_result"
    }
   ],
   "source": [
    "cleanStories50[1]"
   ]
  },
  {
   "cell_type": "markdown",
   "metadata": {},
   "source": [
    "# 100 Glitch In the Matrix"
   ]
  },
  {
   "cell_type": "code",
   "execution_count": 14,
   "metadata": {},
   "outputs": [],
   "source": [
    "# get soup for 100 story site\n",
    "soup = getSoup('https://thoughtcatalog.com/juliet-lanka/2017/11/25-people-give-their-glitch-in-the-matrix-story-that-made-them-believe-in-the-supernatural/')\n",
    "\n",
    "# get lines that contain stories\n",
    "stories = [str(story) for story in soup.find_all('p')][1:]\n",
    "\n",
    "# get characters that distinguish beginning and end of stories\n",
    "weirdQuote = stories[0][3]\n",
    "weirdEndQuote = stories[2][-5]\n",
    "\n",
    "# clean stories\n",
    "newStories = getStories3(stories, weirdEndQuote)\n",
    "scaryStories = startToEndStories(newStories, weirdQuote, weirdEndQuote + '</p>')\n",
    "newScaryStories = []\n",
    "for story in stories:\n",
    "    newStory = story\n",
    "    count = newStory.count('<')\n",
    "    if count != 0:\n",
    "        for x in range(count):\n",
    "            startIndex = newStory.find('<')\n",
    "            endIndex = newStory.find('>', startIndex + 1)\n",
    "            newStory = newStory[:startIndex] + newStory[endIndex+1:]\n",
    "    if '\\n' in newStory:\n",
    "        newStory = newStory.replace('\\n','')\n",
    "    if '\\xa0' in newStory:\n",
    "        newStory = newStory.replace('\\xa0','')\n",
    "    newScaryStories.append(newStory)\n",
    "cleanStories100 = cleanStories(newScaryStories)"
   ]
  },
  {
   "cell_type": "code",
   "execution_count": 17,
   "metadata": {},
   "outputs": [
    {
     "data": {
      "text/plain": [
       "'“My friend and I were talking to our room mate and her girlfriend one night. Room mate had just received her new phone and was sitting in bed using it while the four of us chatted.So, room mate had sat her phone down while we were all chatting. She goes to pick it back up and it’s gone! Like, she had just sat it down for a few minutes tops before she noticed that the thing has poofed. I call it for her and we can’t hear it. We take the comforter and sheets off the bed and shake them all out. We look under the bed, behind it, EVERYWHERE we can. That phone is GONE. Even though we hadn’t left her room at all during our conversation when the phone disappeared, we tore apart the whole apartment trying to find it.Finally, we decide to try her car.It was in the locked trunk.We lived on the third floor and were all in the same room watching her use it before it teleported.”'"
      ]
     },
     "execution_count": 17,
     "metadata": {},
     "output_type": "execute_result"
    }
   ],
   "source": [
    "cleanStories100[5]"
   ]
  },
  {
   "cell_type": "markdown",
   "metadata": {},
   "source": [
    "# 17 Creepy Driving At Night Stories"
   ]
  },
  {
   "cell_type": "code",
   "execution_count": 18,
   "metadata": {},
   "outputs": [],
   "source": [
    "# get soup for 17 story site\n",
    "soup17 = getSoup('https://thoughtcatalog.com/erin-cossetta/2017/10/17-creepy-driving-at-night-stories-that-will-freak-you-out-every-time-you-get-in-your-car/')\n",
    "\n",
    "# get lines that contain stories\n",
    "stories = [str(story) for story in soup17.find_all('p')][1:]\n",
    "\n",
    "# get characters that distinguish beginning and end of stories\n",
    "weirdQuote = stories[0][3]\n",
    "weirdEndQuote = stories[0][-5]\n",
    "\n",
    "# clean stories\n",
    "newStories = getStories(stories, weirdQuote)\n",
    "scaryStories = startToEndStories(newStories, weirdQuote, weirdEndQuote + '</p>')\n",
    "cleanStories17 = cleanStories(scaryStories)"
   ]
  },
  {
   "cell_type": "code",
   "execution_count": 29,
   "metadata": {},
   "outputs": [
    {
     "data": {
      "text/plain": [
       "'I was driving home from work about 2 am, it was a beautiful night so I decided to take a route home that was more in the country instead of through town. I had to cross an old bridge that had been there probably 80-100 years. There’s no houses or lights except my head lights. Just as my front tires hit the bridge a red fog rolls in across it. The hair stood up on the back of my neck and I got across that bridge as fast as possible. After I got across I looked in my mirror and the fog is gone but it looked like someone was standing in the middle of the bridge. I mentioned it to my parents the next morning and my dad said he’d always heard stories about that bridge and supposedly a young lady hung herself from it.'"
      ]
     },
     "execution_count": 29,
     "metadata": {},
     "output_type": "execute_result"
    }
   ],
   "source": [
    "cleanStories17[10]"
   ]
  },
  {
   "cell_type": "markdown",
   "metadata": {},
   "source": [
    "# 20 Ouija Board Stories"
   ]
  },
  {
   "cell_type": "code",
   "execution_count": 30,
   "metadata": {},
   "outputs": [],
   "source": [
    "# get soup for 20 story site\n",
    "soup20 = getSoup('https://thoughtcatalog.com/christine-stockton/2017/06/ouija-board-stories/')\n",
    "\n",
    "# get lines that contain stories\n",
    "stories = [str(story) for story in soup20.find_all('p')]\n",
    "\n",
    "# clean stories\n",
    "newStories = getStories4(stories)\n",
    "scaryStories = startToEndStories2(newStories, 1)\n",
    "cleanStories20 = []\n",
    "for story in scaryStories:\n",
    "    while '<' in story:\n",
    "        startIndex = story.find('<')\n",
    "        endIndex = story.find('>', startIndex + 1)\n",
    "        story = story[:startIndex] + story[endIndex+1:]\n",
    "    if '>' in story:\n",
    "        index = story.find('>')\n",
    "        story = story[index+4:]\n",
    "    story = story.replace('\\xa0', ' ')\n",
    "    if story[0] == ' ':\n",
    "        story = story[1:]\n",
    "    elif story[0:2] == '. ':\n",
    "        story = story[2:]\n",
    "    cleanStories20.append(story)"
   ]
  },
  {
   "cell_type": "code",
   "execution_count": 36,
   "metadata": {},
   "outputs": [
    {
     "data": {
      "text/plain": [
       "'Choked: I have no evidence, and I do not care if you don’t believe me. I’ve used a board with results, and let something into my home. And have been physically assaulted by this entity.It started out with that feeling like you’re being watched, and doors closing, and footsteps on the hardwood when you were home alone. And progressed slowly into being kept awake by something shaking the bed, or pulling off your covers. Sometimes even whispering your name. The board would disappear for days on end, then show up in places you never would have put it. I became obsessed with it. Then it was a black mass in the corner of the room. Or the silhouette of a man watching you from the doorway. After that it escalated pretty quickly. I had my hair pulled. Fingers pricked. Scratched. Choked. Held down in bed while this thing whispered in my ear in what could have only been Latin….. We had our house blessed and the bad thing hasn’t shown back up. Just the normal occurrences now. But I will never again play with one of those boards.'"
      ]
     },
     "execution_count": 36,
     "metadata": {},
     "output_type": "execute_result"
    }
   ],
   "source": [
    "cleanStories20[5]"
   ]
  },
  {
   "cell_type": "markdown",
   "metadata": {},
   "source": [
    "# 42 Creepy Kids Stories"
   ]
  },
  {
   "cell_type": "code",
   "execution_count": 37,
   "metadata": {},
   "outputs": [],
   "source": [
    "# clean stories for 42 website - different than all the others\n",
    "cleanStories42 = []\n",
    "for x in range(1,11):\n",
    "    if x == 1:\n",
    "        url = 'https://thoughtcatalog.com/eric-redding/2016/05/42-creepy-af-things-kids-said-to-their-parents-that-absolutely-chilled-them-to-the-bone/'\n",
    "    else:\n",
    "        url = 'https://thoughtcatalog.com/eric-redding/2016/05/42-creepy-af-things-kids-said-to-their-parents-that-absolutely-chilled-them-to-the-bone/{}/'\n",
    "        url = url.format(str(x))\n",
    "        \n",
    "    soup42 = getSoup(url)\n",
    "    stories = [str(story) for story in soup42.find_all('blockquote')]\n",
    "    for story in stories:\n",
    "        while '<' in story:\n",
    "            startIndex = story.find('<')\n",
    "            endIndex = story.find('>', startIndex + 1)\n",
    "            story = story[:startIndex] + story[endIndex+1:]\n",
    "        story = story.replace('\\n', '')\n",
    "        cleanStories42.append(story)"
   ]
  },
  {
   "cell_type": "code",
   "execution_count": 42,
   "metadata": {},
   "outputs": [
    {
     "data": {
      "text/plain": [
       "'I was on a bus recently and we were stopped outside a walk-in clinic. A little girl in the seat in front of me turned to her dad and said, “Death is the poor man’s doctor.” And that was that.'"
      ]
     },
     "execution_count": 42,
     "metadata": {},
     "output_type": "execute_result"
    }
   ],
   "source": [
    "cleanStories42[4]"
   ]
  },
  {
   "cell_type": "markdown",
   "metadata": {},
   "source": [
    "# Clean and Pickle Stories By Website For Recommender Filter"
   ]
  },
  {
   "cell_type": "code",
   "execution_count": 56,
   "metadata": {},
   "outputs": [],
   "source": [
    "# clean story function\n",
    "def finalClean(stories):\n",
    "    scaryStories = []\n",
    "    for story in stories:\n",
    "        newStory = story\n",
    "        count = newStory.count('<')\n",
    "        if count != 0:\n",
    "            for x in range(count):\n",
    "                startIndex = newStory.find('<')\n",
    "                endIndex = newStory.find('>', startIndex + 1)\n",
    "                newStory = newStory[:startIndex] + newStory[endIndex+1:]\n",
    "        if '\\n' in newStory:\n",
    "            newStory = newStory.replace('\\n','')\n",
    "        if '\\xa0' in newStory:\n",
    "            newStory = newStory.replace('\\xa0','')\n",
    "        if story not in scaryStories:\n",
    "            scaryStories.append(newStory)\n",
    "    return scaryStories"
   ]
  },
  {
   "cell_type": "code",
   "execution_count": 57,
   "metadata": {},
   "outputs": [],
   "source": [
    "# apply final clean to stories from each site\n",
    "cleanStories100 = finalClean(cleanStories100)\n",
    "\n",
    "cleanStories17 = finalClean(cleanStories17)\n",
    "\n",
    "cleanStories20 = finalClean(cleanStories20)\n",
    "\n",
    "cleanStories42 = finalClean(cleanStories42)\n",
    "\n",
    "cleanStories50 = finalClean(cleanStories50)\n",
    "\n",
    "cleanStories67 = finalClean(cleanStories67)"
   ]
  },
  {
   "cell_type": "code",
   "execution_count": 58,
   "metadata": {},
   "outputs": [],
   "source": [
    "# put all stories in one list\n",
    "stories = [cleanStories100, cleanStories17, cleanStories20, cleanStories42, cleanStories50, cleanStories67]"
   ]
  },
  {
   "cell_type": "code",
   "execution_count": 59,
   "metadata": {},
   "outputs": [],
   "source": [
    "# write cleaned stories to picklefile\n",
    "with open('ScaryStories', 'wb') as picklefile:\n",
    "    pkl.dump(stories, picklefile)"
   ]
  },
  {
   "cell_type": "code",
   "execution_count": null,
   "metadata": {},
   "outputs": [],
   "source": []
  }
 ],
 "metadata": {
  "kernelspec": {
   "display_name": "Python 3",
   "language": "python",
   "name": "python3"
  },
  "language_info": {
   "codemirror_mode": {
    "name": "ipython",
    "version": 3
   },
   "file_extension": ".py",
   "mimetype": "text/x-python",
   "name": "python",
   "nbconvert_exporter": "python",
   "pygments_lexer": "ipython3",
   "version": "3.6.6"
  },
  "toc": {
   "base_numbering": 1,
   "nav_menu": {},
   "number_sections": true,
   "sideBar": true,
   "skip_h1_title": false,
   "title_cell": "Table of Contents",
   "title_sidebar": "Contents",
   "toc_cell": false,
   "toc_position": {},
   "toc_section_display": true,
   "toc_window_display": false
  },
  "varInspector": {
   "cols": {
    "lenName": 16,
    "lenType": 16,
    "lenVar": 40
   },
   "kernels_config": {
    "python": {
     "delete_cmd_postfix": "",
     "delete_cmd_prefix": "del ",
     "library": "var_list.py",
     "varRefreshCmd": "print(var_dic_list())"
    },
    "r": {
     "delete_cmd_postfix": ") ",
     "delete_cmd_prefix": "rm(",
     "library": "var_list.r",
     "varRefreshCmd": "cat(var_dic_list()) "
    }
   },
   "types_to_exclude": [
    "module",
    "function",
    "builtin_function_or_method",
    "instance",
    "_Feature"
   ],
   "window_display": false
  }
 },
 "nbformat": 4,
 "nbformat_minor": 2
}
