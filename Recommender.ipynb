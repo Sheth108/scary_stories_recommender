{
 "cells": [
  {
   "cell_type": "code",
   "execution_count": 59,
   "metadata": {},
   "outputs": [],
   "source": [
    "import pickle as pkl\n",
    "from random import randint\n",
    "import pandas as pd\n",
    "import matplotlib.pyplot as plt\n",
    "\n",
    "from scipy import spatial\n",
    "\n",
    "from sklearn.feature_extraction.text import CountVectorizer, TfidfVectorizer\n",
    "from sklearn.feature_extraction import text\n",
    "from sklearn.decomposition import PCA\n",
    "from sklearn.decomposition import TruncatedSVD"
   ]
  },
  {
   "cell_type": "code",
   "execution_count": 3,
   "metadata": {},
   "outputs": [],
   "source": [
    "# unpickle list of stories and arrays of topic probabilities\n",
    "with open(\"ScaryStories\", 'rb') as picklefile: \n",
    "    stories = pkl.load(picklefile)\n",
    "\n",
    "with open(\"sixTopics\", 'rb') as picklefile: \n",
    "    sixTopics = pkl.load(picklefile)\n",
    "\n",
    "with open(\"fourTopics\", 'rb') as picklefile: \n",
    "    fourTopics = pkl.load(picklefile)\n",
    "\n",
    "with open(\"threeTopics\", 'rb') as picklefile: \n",
    "    threeTopics = pkl.load(picklefile)\n",
    "    \n",
    "with open(\"fiveTopics\", 'rb') as picklefile: \n",
    "    fiveTopics = pkl.load(picklefile)"
   ]
  },
  {
   "cell_type": "code",
   "execution_count": 4,
   "metadata": {},
   "outputs": [],
   "source": [
    "# take smaller lists of stories out of larger list\n",
    "cleanStories100 = stories[0]\n",
    "cleanStories17 = stories[1]\n",
    "cleanStories20 = stories[2]\n",
    "cleanStories42 = stories[3]\n",
    "cleanStories50 = stories[4]\n",
    "cleanStories67 = stories[5]"
   ]
  },
  {
   "cell_type": "markdown",
   "metadata": {},
   "source": [
    "# Cosine Similarity"
   ]
  },
  {
   "cell_type": "code",
   "execution_count": 5,
   "metadata": {},
   "outputs": [],
   "source": [
    "# recommender based on cosine similarities\n",
    "def myRecommenderCosSim(story, topicProbs=sixTopics, stories=stories):\n",
    "    storyIndex = stories.index(story)\n",
    "    topic = topicProbs[storyIndex]\n",
    "    listOfCosSim = []\n",
    "    for index, prob in enumerate(topicProbs):\n",
    "        if index != storyIndex:\n",
    "            myCos = 1 - spatial.distance.cosine(topic, prob)\n",
    "            listOfCosSim.append((index, myCos))\n",
    "    sortedByCosine = sorted(listOfCosSim, key=lambda tup: tup[1], reverse=True)\n",
    "    print(sortedByCosine[:4])\n",
    "    return stories[sortedByCosine[0][0]]"
   ]
  },
  {
   "cell_type": "markdown",
   "metadata": {},
   "source": [
    "# PCA"
   ]
  },
  {
   "cell_type": "code",
   "execution_count": 7,
   "metadata": {},
   "outputs": [],
   "source": [
    "# pca recommender (can change components but 2 seems to be best)\n",
    "def myRecommenderPCA(story, stories=stories, topicProbs=sixTopics):\n",
    "    pca = PCA(n_components=2)\n",
    "    pca.fit(topicProbs)\n",
    "    print(pca.explained_variance_ratio_)\n",
    "    #print(pca.components_)\n",
    "    pcaPoints = pca.transform(topicProbs)\n",
    "    \n",
    "    storyIndex = stories.index(story)\n",
    "    topic = topicProbs[storyIndex]\n",
    "    listOfDistances = []\n",
    "    for index, prob in enumerate(topicProbs):\n",
    "        if index != storyIndex:\n",
    "            distance = spatial.distance.euclidean(topic, prob)\n",
    "            listOfDistances.append((index, distance))\n",
    "    sortedByDistance = sorted(listOfDistances, key=lambda tup: tup[1])\n",
    "    return stories[sortedByDistance[0][0]]"
   ]
  },
  {
   "cell_type": "markdown",
   "metadata": {},
   "source": [
    "# Test"
   ]
  },
  {
   "cell_type": "code",
   "execution_count": null,
   "metadata": {},
   "outputs": [],
   "source": [
    "# print and compare recommendations by topic models (can choose either pca euclid metric or cosine similarity metric)\n",
    "def testRecommender(storyNum, stories=stories, topicProbs=[threeTopics, fourTopics, fiveTopics], metric='cosine'):\n",
    "    if metric != 'euclid':\n",
    "        print('Story is:')\n",
    "        print('\\n')\n",
    "        print(stories[storyNum])\n",
    "        print('\\n')!111\n",
    "\n",
    "        print('Six topics is:')\n",
    "        print('\\n')\n",
    "        print(myRecommenderCosSim(stories[storyNum]))\n",
    "        print('\\n')\n",
    "        \n",
    "        print('Five topics is:')\n",
    "        print('\\n')\n",
    "        print(myRecommenderCosSim(stories[storyNum], topicProbs=topicProbs[2]))\n",
    "        print('\\n')\n",
    "\n",
    "        print('Three topics is:')\n",
    "        print('\\n')\n",
    "        print(myRecommenderCosSim(stories[storyNum], topicProbs=topicProbs[0]))\n",
    "        print('\\n')\n",
    "\n",
    "        print('Four topics is:')\n",
    "        print('\\n')\n",
    "        print(myRecommenderCosSim(stories[storyNum], topicProbs=topicProbs[1]))\n",
    "        print('\\n')\n",
    "        \n",
    "    \n",
    "    else:\n",
    "        print('Story is:')\n",
    "        print('\\n')\n",
    "        print(stories[storyNum])\n",
    "        print('\\n')\n",
    "        \n",
    "\n",
    "        print('Six topics is:')\n",
    "        print('\\n')\n",
    "        print(myRecommenderPCA(stories[storyNum]))\n",
    "        print('\\n')\n",
    "        \n",
    "        print('Five topics is:')\n",
    "        print('\\n')\n",
    "        print(myRecommenderPCA(stories[storyNum], topicProbs=topicProbs[2]))\n",
    "        print('\\n')\n",
    "\n",
    "        print('Three topics is:')\n",
    "        print('\\n')\n",
    "        print(myRecommenderPCA(stories[storyNum], topicProbs=topicProbs[0]))\n",
    "        print('\\n')\n",
    "\n",
    "        print('Four topics is:')\n",
    "        print('\\n')\n",
    "        print(myRecommenderPCA(stories[storyNum], topicProbs=topicProbs[1]))\n",
    "        print('\\n') \n",
    "\n"
   ]
  },
  {
   "cell_type": "code",
   "execution_count": 8,
   "metadata": {},
   "outputs": [
    {
     "name": "stdout",
     "output_type": "stream",
     "text": [
      "Story is:\n",
      "\n",
      "\n",
      "As a teenager I was obsessed with “spook road” where a car full of kids crashed and died, they still had the dash of the car still at the site. The roads fairly long, and we were driving at night about 30 mph, some how we took a 15 min drive and was capable of listening to an entire album. It was weird as though time didn’t move right. Still baffled at 32 years old.\n",
      "\n",
      "\n",
      "Six topics is:\n",
      "\n",
      "\n",
      "[(190, 0.9662767367573414), (15, 0.9592402210253368), (37, 0.9042550458674857), (46, 0.897229758297538)]\n",
      "Last summer in my city a 14-year old girl was raped near a train station. After her abuser left her she tried to get help and flagged down a vehicle and was raped a second time in the car of the man who stopped. Two complete strangers raped her on the same day, it happened only a few miles away from my house and I still think about it from time to time.\n",
      "\n",
      "\n",
      "Five topics is:\n",
      "\n",
      "\n",
      "[(10, nan), (14, 0.9999930158186928), (23, 0.9984524451010889), (4, 0.9983401133894466)]\n",
      "Sometimes I swear that lights flicker in whatever room I’m in. It’s like someone turned all the present lights off simultaneously. I even ask those around me if they saw the lights ‘turn off.’ I don’t recall blinking any time this has happened either. I wonder if I have mini nanosecond blackouts…\n",
      "\n",
      "\n",
      "Three topics is:\n",
      "\n",
      "\n",
      "[(71, 0.9999962810296713), (118, 0.9999158236210112), (48, 0.9998968928775022), (23, 0.9998959167962939)]\n",
      "This happened to me in third grade, and it scared me so much I started crying and had to go to the office to talk to the principal about it. I was in the hallway for misbehaving, and my neighbor Tad (a year younger than me) came walking out of a class to my right, passed in front of me and headed down some stairs. We said “hi” to each other. About 20 seconds later, he walked out of the same class, passed in front of me, and headed down the stairs. I just stared at him, confused and afraid, and he looked back like “why the f are you looking at me like that”. I never realized how much it was like Matrix deja vu.\n",
      "\n",
      "\n",
      "Four topics is:\n",
      "\n",
      "\n",
      "[(9, 0.9938264789288053), (192, 0.9918284701015545), (39, 0.990708159244046), (179, 0.9889723401062284)]\n",
      "To this day I can not explain what happened. Was watching tv with friends and we landed on some old 80s movie I used to watch over and over but hadn’t seen in a long time. I had the dialogue memorized and it all instantly came back and I knew what was going to be said next.Here’s the freaky part we changed channels and kept trying to find something to watch. I noticed that everything we watched was the same—I knew every line of dialogue as if I was remembering it from having memorized it. These were all things I had never watched before!Here’s the real freaky part—it started happening even when my friends were talking. An instant before they said anything, I knew word for word what they were saying. The effect only last an hour or so but it was bizarre!!\n",
      "\n",
      "\n"
     ]
    },
    {
     "name": "stderr",
     "output_type": "stream",
     "text": [
      "/Applications/anaconda3/lib/python3.6/site-packages/scipy/spatial/distance.py:698: RuntimeWarning: invalid value encountered in double_scalars\n",
      "  dist = 1.0 - uv / np.sqrt(uu * vv)\n"
     ]
    }
   ],
   "source": [
    "testRecommender(103)"
   ]
  },
  {
   "cell_type": "code",
   "execution_count": 9,
   "metadata": {},
   "outputs": [
    {
     "name": "stdout",
     "output_type": "stream",
     "text": [
      "Story is:\n",
      "\n",
      "\n",
      "As a teenager I was obsessed with “spook road” where a car full of kids crashed and died, they still had the dash of the car still at the site. The roads fairly long, and we were driving at night about 30 mph, some how we took a 15 min drive and was capable of listening to an entire album. It was weird as though time didn’t move right. Still baffled at 32 years old.\n",
      "\n",
      "\n",
      "Six topics is:\n",
      "\n",
      "\n",
      "[0.2198538  0.21170042]\n",
      "When I was around 12 and my older brother was 15, we were at this huge playground that we used to go to on some weekends. It was out in the country, so it was the kind of place that you would only go every now and then – when parents wanted to take their kids on a day trip kind of thing.There were 2 big hills and each had several slides on it going down the outside. On one of the hills, there were these slides that went inside the hill, and came out at the bottom. So you would climb to the top of the hill, then sit on the slide and go down, in through these tunnels, twisting and winding and then come out at the bottom. Pic: https://imgur.com/yUVewNeMy brother and I were at the top of the hill waiting for one of the slides (it got quite busy) when we noticed a boy getting OUT of one of the slides, he had obviously walked up it or had gotten in and changed his mind, we moved out the way as an older man went to help him out, grabbed his hand and lifted him out of the slide. We didn’t think much of it and went down the other slide and went on with our day.No more than half an hour later, we were back at the top of the hill waiting to go down another slide when I looked over at the slide that the boy had come out of and there was a cage welded over the entrance to the slide. I asked my brother “hey did you see boy come out of there before?” and he said “what the hell, yeah with that man?”. We went over and had a look at the slide and there is absolutely no way anyone could get into or out of that slide. The cage looked like it had been on there for weeks.We still bring it up every now and then. I don’t know if it was paranormal or a glitch or what.\n",
      "\n",
      "\n",
      "Five topics is:\n",
      "\n",
      "\n",
      "[0.26757319 0.24839447]\n",
      "Here’s one from my brother. I don’t think our mom believed him, but I certainly do. He seemed spooked when he got home.He was sitting in the passenger seat, driving home alongside my mom. A bright green car swerved and hit them, knocking bits and pieces of glass into his arm.He jolted awake afterwards, just in time to see the green car pass them. He claimed he felt the marks the glass left afterwards too.\n",
      "\n",
      "\n",
      "Three topics is:\n",
      "\n",
      "\n",
      "[0.46340681 0.45096762]\n",
      "I had an android phone which had a google “cards” feature option that could notify you like “15 minutes to home” if you were out. I thought this feature was annoying and useless so I kept the feature off.After several months of no cards notifications, one night I’m at home and a card pops up saying “35 minutes to home” pinning me at a random intersection on the other side of town. Let’s call it 1st St.I think, that’s weird, I’m not even way over there, I don’t even know where that is, I’ve never been to that area. I go to my cards setting to turn it back off but it’s already turned off. “That’s weird. \n",
      "\n",
      "\n",
      "Four topics is:\n",
      "\n",
      "\n",
      "[0.43697599 0.21647032]\n",
      "I lived in an apartment in Marina del Rey, California. 9 years ago, just before Halloween, a third-floor balcony was decorated with a prop of a dead man slumped over in a chair. For a few days, every time I’d come home I’d look up and think how cool looking it was and wondering why they didn’t have lights shining on it at night. After a few days, people realized it was actually the resident of the apartment who killed himself. I was looking at a corpse thinking how cool it was.\n",
      "\n",
      "\n"
     ]
    }
   ],
   "source": [
    "testRecommender(103, metric='euclid')"
   ]
  },
  {
   "cell_type": "markdown",
   "metadata": {},
   "source": [
    "# Cosine Similarity Filtered On Previous Topics (Designated by Website Scraped From)"
   ]
  },
  {
   "cell_type": "code",
   "execution_count": 10,
   "metadata": {},
   "outputs": [],
   "source": [
    "# filtered recommender using cosine similarities and original website scraped from\n",
    "def myRecommenderCosSimFilter(story, topicProbs=sixTopics, stories=stories,\n",
    "                              cleanedStories=[cleanStories100, cleanStories17, cleanStories20, cleanStories42,\n",
    "                                             cleanStories50, cleanStories67]):\n",
    "    storyIndex = stories.index(story)\n",
    "    topic = topicProbs[storyIndex]\n",
    "    listOfCosSim = []\n",
    "    for index, prob in enumerate(topicProbs):\n",
    "        if index != storyIndex:\n",
    "            myCos = 1 - spatial.distance.cosine(topic, prob)\n",
    "            listOfCosSim.append((index, myCos))\n",
    "    sortedByCosine = sorted(listOfCosSim, key=lambda tup: tup[1], reverse=True)\n",
    "    checkList = sortedByCosine[:8]\n",
    "    for sub in cleanedStories:\n",
    "        if story in sub:\n",
    "            subject = sub\n",
    "    print(checkList)\n",
    "    for check in range(8):\n",
    "        currentStory = stories[checkList[check][0]]\n",
    "        if currentStory in subject:\n",
    "            return currentStory\n",
    "    return stories[sortedByCosine[0][0]]"
   ]
  },
  {
   "cell_type": "markdown",
   "metadata": {},
   "source": [
    "# Graph For Tableau"
   ]
  },
  {
   "cell_type": "code",
   "execution_count": null,
   "metadata": {},
   "outputs": [],
   "source": [
    "# get pca points in order to graph for visualization\n",
    "pca = PCA(n_components=2)\n",
    "pca.fit(sixTopics)\n",
    "pcaPoints = pca.transform(sixTopics)\n",
    "pcaPoints"
   ]
  },
  {
   "cell_type": "code",
   "execution_count": 13,
   "metadata": {},
   "outputs": [],
   "source": [
    "# get average point for each topic for pca model\n",
    "def getAvgPoint(topicNum, pcaPoints=pcaPoints, topicProbs=sixTopics):\n",
    "    topicIndices = []\n",
    "    for index, currentTopic in enumerate(topicProbs):\n",
    "        if max(currentTopic) == currentTopic[topicNum]:\n",
    "            topicIndices.append(index)\n",
    "    xValues = []\n",
    "    yValues = []\n",
    "    for index in topicIndices:\n",
    "        xValues.append(pcaPoints[index][0])\n",
    "        yValues.append(pcaPoints[index][1])\n",
    "    avgX = sum(xValues)/float(len(xValues))\n",
    "    avgY = sum(yValues)/float(len(yValues))\n",
    "    return [len(xValues), avgX, avgY]"
   ]
  },
  {
   "cell_type": "code",
   "execution_count": 30,
   "metadata": {},
   "outputs": [],
   "source": [
    "# put topic (string), p1 (float), p2(float), and number of stories in topic (int) into df to put in tableau\n",
    "topicOne = getAvgPoint(0)\n",
    "df = pd.DataFrame({'Topic':'Driving', 'P1': topicOne[1], 'P2':topicOne[2], 'Stories In Topic':topicOne[0]}, index=[0])\n",
    "for topicNum in range(1,6):\n",
    "    listOfTopics = ['Unexplainable Event', 'Strange Coincidence', 'Odd Occurrence with Friends/Family', 'Little Kids', 'Murder/kidnapping/death' ]\n",
    "    thisTopic = getAvgPoint(topicNum)\n",
    "    newDF = pd.DataFrame({'Topic':listOfTopics[topicNum-1], 'P1': thisTopic[1], 'P2':thisTopic[2], 'Stories In Topic':thisTopic[0]}, index=[topicNum])\n",
    "    df = pd.concat([df, newDF])"
   ]
  },
  {
   "cell_type": "code",
   "execution_count": 33,
   "metadata": {},
   "outputs": [],
   "source": [
    "# load df into csv for tableau\n",
    "df.to_csv('topics.csv')"
   ]
  },
  {
   "cell_type": "code",
   "execution_count": 91,
   "metadata": {},
   "outputs": [
    {
     "data": {
      "text/plain": [
       "<matplotlib.lines.Line2D at 0x1a20bfbd68>"
      ]
     },
     "execution_count": 91,
     "metadata": {},
     "output_type": "execute_result"
    },
    {
     "data": {
      "image/png": "[encoded data removed]",
      "text/plain": [
       "<Figure size 864x648 with 1 Axes>"
      ]
     },
     "metadata": {},
     "output_type": "display_data"
    }
   ],
   "source": [
    "# graph 2 similar points and one different\n",
    "points = pcaPoints[44], pcaPoints[82], pcaPoints[165]\n",
    "fig, ax = plt.subplots(figsize=(12,9))\n",
    "\n",
    "plt.scatter(points[0][0], points[0][1], label='Brother Already Downstairs')\n",
    "plt.scatter(points[1][0], points[1][1], c='g', label='Falling Downstairs')\n",
    "plt.scatter(points[2][0], points[2][1], c='r', label='School Shooting')\n",
    "plt.legend()\n",
    "plt.title('Comparing Scary Stories')\n",
    "ax.axhline(y=0, color='k')\n",
    "ax.axvline(x=0, color='k')"
   ]
  },
  {
   "cell_type": "code",
   "execution_count": null,
   "metadata": {},
   "outputs": [],
   "source": []
  }
 ],
 "metadata": {
  "kernelspec": {
   "display_name": "Python 3",
   "language": "python",
   "name": "python3"
  },
  "language_info": {
   "codemirror_mode": {
    "name": "ipython",
    "version": 3
   },
   "file_extension": ".py",
   "mimetype": "text/x-python",
   "name": "python",
   "nbconvert_exporter": "python",
   "pygments_lexer": "ipython3",
   "version": "3.6.6"
  },
  "toc": {
   "base_numbering": 1,
   "nav_menu": {},
   "number_sections": true,
   "sideBar": true,
   "skip_h1_title": false,
   "title_cell": "Table of Contents",
   "title_sidebar": "Contents",
   "toc_cell": false,
   "toc_position": {},
   "toc_section_display": true,
   "toc_window_display": false
  },
  "varInspector": {
   "cols": {
    "lenName": 16,
    "lenType": 16,
    "lenVar": 40
   },
   "kernels_config": {
    "python": {
     "delete_cmd_postfix": "",
     "delete_cmd_prefix": "del ",
     "library": "var_list.py",
     "varRefreshCmd": "print(var_dic_list())"
    },
    "r": {
     "delete_cmd_postfix": ") ",
     "delete_cmd_prefix": "rm(",
     "library": "var_list.r",
     "varRefreshCmd": "cat(var_dic_list()) "
    }
   },
   "types_to_exclude": [
    "module",
    "function",
    "builtin_function_or_method",
    "instance",
    "_Feature"
   ],
   "window_display": false
  }
 },
 "nbformat": 4,
 "nbformat_minor": 2
}
